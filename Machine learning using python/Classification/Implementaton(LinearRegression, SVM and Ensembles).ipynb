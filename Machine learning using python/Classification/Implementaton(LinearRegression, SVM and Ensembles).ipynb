{
 "cells": [
  {
   "cell_type": "markdown",
   "metadata": {},
   "source": [
    "## SVMS, decision trees, Random Forests, and other Ensemble algorithms"
   ]
  },
  {
   "cell_type": "markdown",
   "metadata": {},
   "source": [
    "The document provides implementation details in Python for some of the Machine learning algorithms.  "
   ]
  },
  {
   "cell_type": "markdown",
   "metadata": {},
   "source": [
    "### SVMs"
   ]
  },
  {
   "cell_type": "markdown",
   "metadata": {},
   "source": [
    "Support vector machines are great for classification problems. Details on algorithm and intuition can be found at [Andrew Ng's ML course](http://www.holehouse.org/mlclass/12_Support_Vector_Machines.html)\n",
    "\n",
    "Importing necessary libraries"
   ]
  },
  {
   "cell_type": "code",
   "execution_count": 26,
   "metadata": {},
   "outputs": [],
   "source": [
    "import pandas as pd\n",
    "import numpy as np\n",
    "from sklearn.svm import SVC\n",
    "from sklearn.model_selection import train_test_split\n",
    "from sklearn.model_selection import GridSearchCV\n",
    "from sklearn.linear_model import LogisticRegression\n",
    "from sklearn.metrics import confusion_matrix \n",
    "import warnings\n",
    "pd.set_option('display.max_columns', 500)\n",
    "from sklearn import tree\n"
   ]
  },
  {
   "cell_type": "markdown",
   "metadata": {},
   "source": [
    "Using a simple Male/Female data to illustrate this model where sex of an individual is predicted from height and weight"
   ]
  },
  {
   "cell_type": "code",
   "execution_count": 3,
   "metadata": {},
   "outputs": [
    {
     "data": {
      "text/html": [
       "<div>\n",
       "<style scoped>\n",
       "    .dataframe tbody tr th:only-of-type {\n",
       "        vertical-align: middle;\n",
       "    }\n",
       "\n",
       "    .dataframe tbody tr th {\n",
       "        vertical-align: top;\n",
       "    }\n",
       "\n",
       "    .dataframe thead th {\n",
       "        text-align: right;\n",
       "    }\n",
       "</style>\n",
       "<table border=\"1\" class=\"dataframe\">\n",
       "  <thead>\n",
       "    <tr style=\"text-align: right;\">\n",
       "      <th></th>\n",
       "      <th>Gender</th>\n",
       "      <th>Height</th>\n",
       "      <th>Weight</th>\n",
       "    </tr>\n",
       "  </thead>\n",
       "  <tbody>\n",
       "    <tr>\n",
       "      <th>0</th>\n",
       "      <td>Male</td>\n",
       "      <td>73.847017</td>\n",
       "      <td>241.893563</td>\n",
       "    </tr>\n",
       "    <tr>\n",
       "      <th>1</th>\n",
       "      <td>Male</td>\n",
       "      <td>68.781904</td>\n",
       "      <td>162.310473</td>\n",
       "    </tr>\n",
       "    <tr>\n",
       "      <th>2</th>\n",
       "      <td>Male</td>\n",
       "      <td>74.110105</td>\n",
       "      <td>212.740856</td>\n",
       "    </tr>\n",
       "    <tr>\n",
       "      <th>3</th>\n",
       "      <td>Male</td>\n",
       "      <td>71.730978</td>\n",
       "      <td>220.042470</td>\n",
       "    </tr>\n",
       "    <tr>\n",
       "      <th>4</th>\n",
       "      <td>Male</td>\n",
       "      <td>69.881796</td>\n",
       "      <td>206.349801</td>\n",
       "    </tr>\n",
       "  </tbody>\n",
       "</table>\n",
       "</div>"
      ],
      "text/plain": [
       "  Gender     Height      Weight\n",
       "0   Male  73.847017  241.893563\n",
       "1   Male  68.781904  162.310473\n",
       "2   Male  74.110105  212.740856\n",
       "3   Male  71.730978  220.042470\n",
       "4   Male  69.881796  206.349801"
      ]
     },
     "execution_count": 3,
     "metadata": {},
     "output_type": "execute_result"
    }
   ],
   "source": [
    "#importing data as DataFrame\n",
    "data = pd.read_csv(\"weight-height.csv\")\n",
    "data.head()\n"
   ]
  },
  {
   "cell_type": "code",
   "execution_count": 4,
   "metadata": {},
   "outputs": [
    {
     "data": {
      "text/plain": [
       "(10000, 3)"
      ]
     },
     "execution_count": 4,
     "metadata": {},
     "output_type": "execute_result"
    }
   ],
   "source": [
    "data.shape"
   ]
  },
  {
   "cell_type": "code",
   "execution_count": 5,
   "metadata": {},
   "outputs": [
    {
     "name": "stdout",
     "output_type": "stream",
     "text": [
      "   Gender     Height      Weight\n",
      "0  Female  60.725153  122.507463\n",
      "1  Female  62.934926  132.616525\n",
      "2    Male  70.523225  207.532839\n",
      "3  Female  64.962069  141.482514\n",
      "4    Male  68.985554  186.341902\n"
     ]
    },
    {
     "data": {
      "text/plain": [
       "(500, 3)"
      ]
     },
     "execution_count": 5,
     "metadata": {},
     "output_type": "execute_result"
    }
   ],
   "source": [
    "# for illustration just sampling just 500\n",
    "data = data.sample(500, replace=False)\n",
    "data.index = range(500)\n",
    "print(data.head())\n",
    "data.shape"
   ]
  },
  {
   "cell_type": "markdown",
   "metadata": {},
   "source": [
    "Creating generic function for cross validation and GridSearchCV"
   ]
  },
  {
   "cell_type": "code",
   "execution_count": 6,
   "metadata": {},
   "outputs": [],
   "source": [
    "def cross_valid(X, Y,clf, parameters, score_func, n_folds ):\n",
    "    if score_func:\n",
    "        model=  GridSearchCV(estimator=clf, param_grid=parameters, scoring = score_func, cv=n_folds, return_train_score=True)\n",
    "    else:\n",
    "        model= GridSearchCV(estimator=clf, param_grid=parameters, cv=n_folds, return_train_score=True)\n",
    "    model.fit(X, Y)\n",
    "   \n",
    "    print(\"Best estimator\")\n",
    "    print(model.best_estimator_)\n",
    "    print(\"BEST parameters\")\n",
    "    print(model.best_params_)\n",
    "\n",
    "    print(\"BEST score\")\n",
    "    print(model.best_score_)\n",
    "    \n",
    "    return  model, model.best_estimator_\n",
    "\n",
    "def classify(data, clf, features, label, label_one, test_size,  n_folds, parameters ,score_func =None):\n",
    "    subdf = data[features]\n",
    "    X = subdf.values\n",
    "    Y = (data[label].values==label_one)*1\n",
    "    itrain, itest = train_test_split(range(data.shape[0]), test_size = test_size,random_state = 43)\n",
    "    xtrain = X[itrain,]\n",
    "    ytrain = Y[itrain,]\n",
    "    #print(X[itrain,].shape, Y[itrain,].shape)\n",
    "    xtest = X[itest,]\n",
    "    ytest = Y[itest, ]\n",
    "    \n",
    "    model_cv, clf_best =cross_valid(X=xtrain, Y= ytrain, clf=clf, parameters=parameters, score_func=score_func, n_folds=n_folds)\n",
    "    \n",
    "    # train on entire data\n",
    "    clf_best.fit(xtrain,ytrain)\n",
    "    \n",
    "    ## scores\n",
    "    clf=clf_best.fit(xtrain, ytrain)\n",
    "   \n",
    "    training_accuracy = clf.score(xtrain,ytrain)\n",
    "    test_accuracy = clf.score(xtest,ytest)\n",
    "    print (\"############# based on standard predict ################\")\n",
    "    print( \"Accuracy on training data: %0.2f\" % (training_accuracy))\n",
    "    print( \"Accuracy on test data:     %0.2f\" % (test_accuracy))\n",
    "    print( confusion_matrix(ytest, clf.predict(xtest)))\n",
    "    print (\"########################################################\")\n",
    "    return model_cv, clf_best, xtrain, ytrain, xtest, ytest\n",
    "    \n",
    "    \n",
    "    "
   ]
  },
  {
   "cell_type": "code",
   "execution_count": 8,
   "metadata": {},
   "outputs": [
    {
     "name": "stdout",
     "output_type": "stream",
     "text": [
      "Best estimator\n",
      "LogisticRegression(C=1, class_weight=None, dual=False, fit_intercept=True,\n",
      "          intercept_scaling=1, max_iter=100, multi_class='warn',\n",
      "          n_jobs=None, penalty='l2', random_state=None, solver='warn',\n",
      "          tol=0.0001, verbose=0, warm_start=False)\n",
      "BEST parameters\n",
      "{'C': 1}\n",
      "BEST score\n",
      "0.94\n",
      "############# based on standard predict ################\n",
      "Accuracy on training data: 0.94\n",
      "Accuracy on test data:     0.94\n",
      "[[89  8]\n",
      " [ 5 98]]\n",
      "########################################################\n"
     ]
    },
    {
     "name": "stderr",
     "output_type": "stream",
     "text": [
      "/anaconda2/lib/python3.7/site-packages/sklearn/linear_model/logistic.py:433: FutureWarning: Default solver will be changed to 'lbfgs' in 0.22. Specify a solver to silence this warning.\n",
      "  FutureWarning)\n",
      "/anaconda2/lib/python3.7/site-packages/sklearn/linear_model/logistic.py:433: FutureWarning: Default solver will be changed to 'lbfgs' in 0.22. Specify a solver to silence this warning.\n",
      "  FutureWarning)\n",
      "/anaconda2/lib/python3.7/site-packages/sklearn/linear_model/logistic.py:433: FutureWarning: Default solver will be changed to 'lbfgs' in 0.22. Specify a solver to silence this warning.\n",
      "  FutureWarning)\n",
      "/anaconda2/lib/python3.7/site-packages/sklearn/linear_model/logistic.py:433: FutureWarning: Default solver will be changed to 'lbfgs' in 0.22. Specify a solver to silence this warning.\n",
      "  FutureWarning)\n",
      "/anaconda2/lib/python3.7/site-packages/sklearn/linear_model/logistic.py:433: FutureWarning: Default solver will be changed to 'lbfgs' in 0.22. Specify a solver to silence this warning.\n",
      "  FutureWarning)\n",
      "/anaconda2/lib/python3.7/site-packages/sklearn/linear_model/logistic.py:433: FutureWarning: Default solver will be changed to 'lbfgs' in 0.22. Specify a solver to silence this warning.\n",
      "  FutureWarning)\n",
      "/anaconda2/lib/python3.7/site-packages/sklearn/linear_model/logistic.py:433: FutureWarning: Default solver will be changed to 'lbfgs' in 0.22. Specify a solver to silence this warning.\n",
      "  FutureWarning)\n",
      "/anaconda2/lib/python3.7/site-packages/sklearn/linear_model/logistic.py:433: FutureWarning: Default solver will be changed to 'lbfgs' in 0.22. Specify a solver to silence this warning.\n",
      "  FutureWarning)\n",
      "/anaconda2/lib/python3.7/site-packages/sklearn/linear_model/logistic.py:433: FutureWarning: Default solver will be changed to 'lbfgs' in 0.22. Specify a solver to silence this warning.\n",
      "  FutureWarning)\n",
      "/anaconda2/lib/python3.7/site-packages/sklearn/linear_model/logistic.py:433: FutureWarning: Default solver will be changed to 'lbfgs' in 0.22. Specify a solver to silence this warning.\n",
      "  FutureWarning)\n",
      "/anaconda2/lib/python3.7/site-packages/sklearn/linear_model/logistic.py:433: FutureWarning: Default solver will be changed to 'lbfgs' in 0.22. Specify a solver to silence this warning.\n",
      "  FutureWarning)\n",
      "/anaconda2/lib/python3.7/site-packages/sklearn/linear_model/logistic.py:433: FutureWarning: Default solver will be changed to 'lbfgs' in 0.22. Specify a solver to silence this warning.\n",
      "  FutureWarning)\n",
      "/anaconda2/lib/python3.7/site-packages/sklearn/linear_model/logistic.py:433: FutureWarning: Default solver will be changed to 'lbfgs' in 0.22. Specify a solver to silence this warning.\n",
      "  FutureWarning)\n",
      "/anaconda2/lib/python3.7/site-packages/sklearn/linear_model/logistic.py:433: FutureWarning: Default solver will be changed to 'lbfgs' in 0.22. Specify a solver to silence this warning.\n",
      "  FutureWarning)\n",
      "/anaconda2/lib/python3.7/site-packages/sklearn/linear_model/logistic.py:433: FutureWarning: Default solver will be changed to 'lbfgs' in 0.22. Specify a solver to silence this warning.\n",
      "  FutureWarning)\n",
      "/anaconda2/lib/python3.7/site-packages/sklearn/linear_model/logistic.py:433: FutureWarning: Default solver will be changed to 'lbfgs' in 0.22. Specify a solver to silence this warning.\n",
      "  FutureWarning)\n",
      "/anaconda2/lib/python3.7/site-packages/sklearn/linear_model/logistic.py:433: FutureWarning: Default solver will be changed to 'lbfgs' in 0.22. Specify a solver to silence this warning.\n",
      "  FutureWarning)\n",
      "/anaconda2/lib/python3.7/site-packages/sklearn/linear_model/logistic.py:433: FutureWarning: Default solver will be changed to 'lbfgs' in 0.22. Specify a solver to silence this warning.\n",
      "  FutureWarning)\n",
      "/anaconda2/lib/python3.7/site-packages/sklearn/linear_model/logistic.py:433: FutureWarning: Default solver will be changed to 'lbfgs' in 0.22. Specify a solver to silence this warning.\n",
      "  FutureWarning)\n",
      "/anaconda2/lib/python3.7/site-packages/sklearn/linear_model/logistic.py:433: FutureWarning: Default solver will be changed to 'lbfgs' in 0.22. Specify a solver to silence this warning.\n",
      "  FutureWarning)\n",
      "/anaconda2/lib/python3.7/site-packages/sklearn/linear_model/logistic.py:433: FutureWarning: Default solver will be changed to 'lbfgs' in 0.22. Specify a solver to silence this warning.\n",
      "  FutureWarning)\n",
      "/anaconda2/lib/python3.7/site-packages/sklearn/linear_model/logistic.py:433: FutureWarning: Default solver will be changed to 'lbfgs' in 0.22. Specify a solver to silence this warning.\n",
      "  FutureWarning)\n",
      "/anaconda2/lib/python3.7/site-packages/sklearn/linear_model/logistic.py:433: FutureWarning: Default solver will be changed to 'lbfgs' in 0.22. Specify a solver to silence this warning.\n",
      "  FutureWarning)\n",
      "/anaconda2/lib/python3.7/site-packages/sklearn/linear_model/logistic.py:433: FutureWarning: Default solver will be changed to 'lbfgs' in 0.22. Specify a solver to silence this warning.\n",
      "  FutureWarning)\n",
      "/anaconda2/lib/python3.7/site-packages/sklearn/linear_model/logistic.py:433: FutureWarning: Default solver will be changed to 'lbfgs' in 0.22. Specify a solver to silence this warning.\n",
      "  FutureWarning)\n",
      "/anaconda2/lib/python3.7/site-packages/sklearn/linear_model/logistic.py:433: FutureWarning: Default solver will be changed to 'lbfgs' in 0.22. Specify a solver to silence this warning.\n",
      "  FutureWarning)\n",
      "/anaconda2/lib/python3.7/site-packages/sklearn/linear_model/logistic.py:433: FutureWarning: Default solver will be changed to 'lbfgs' in 0.22. Specify a solver to silence this warning.\n",
      "  FutureWarning)\n",
      "/anaconda2/lib/python3.7/site-packages/sklearn/linear_model/logistic.py:433: FutureWarning: Default solver will be changed to 'lbfgs' in 0.22. Specify a solver to silence this warning.\n",
      "  FutureWarning)\n",
      "/anaconda2/lib/python3.7/site-packages/sklearn/linear_model/logistic.py:433: FutureWarning: Default solver will be changed to 'lbfgs' in 0.22. Specify a solver to silence this warning.\n",
      "  FutureWarning)\n",
      "/anaconda2/lib/python3.7/site-packages/sklearn/linear_model/logistic.py:433: FutureWarning: Default solver will be changed to 'lbfgs' in 0.22. Specify a solver to silence this warning.\n",
      "  FutureWarning)\n",
      "/anaconda2/lib/python3.7/site-packages/sklearn/linear_model/logistic.py:433: FutureWarning: Default solver will be changed to 'lbfgs' in 0.22. Specify a solver to silence this warning.\n",
      "  FutureWarning)\n",
      "/anaconda2/lib/python3.7/site-packages/sklearn/linear_model/logistic.py:433: FutureWarning: Default solver will be changed to 'lbfgs' in 0.22. Specify a solver to silence this warning.\n",
      "  FutureWarning)\n",
      "/anaconda2/lib/python3.7/site-packages/sklearn/linear_model/logistic.py:433: FutureWarning: Default solver will be changed to 'lbfgs' in 0.22. Specify a solver to silence this warning.\n",
      "  FutureWarning)\n",
      "/anaconda2/lib/python3.7/site-packages/sklearn/linear_model/logistic.py:433: FutureWarning: Default solver will be changed to 'lbfgs' in 0.22. Specify a solver to silence this warning.\n",
      "  FutureWarning)\n",
      "/anaconda2/lib/python3.7/site-packages/sklearn/linear_model/logistic.py:433: FutureWarning: Default solver will be changed to 'lbfgs' in 0.22. Specify a solver to silence this warning.\n",
      "  FutureWarning)\n",
      "/anaconda2/lib/python3.7/site-packages/sklearn/linear_model/logistic.py:433: FutureWarning: Default solver will be changed to 'lbfgs' in 0.22. Specify a solver to silence this warning.\n",
      "  FutureWarning)\n",
      "/anaconda2/lib/python3.7/site-packages/sklearn/linear_model/logistic.py:433: FutureWarning: Default solver will be changed to 'lbfgs' in 0.22. Specify a solver to silence this warning.\n",
      "  FutureWarning)\n",
      "/anaconda2/lib/python3.7/site-packages/sklearn/linear_model/logistic.py:433: FutureWarning: Default solver will be changed to 'lbfgs' in 0.22. Specify a solver to silence this warning.\n",
      "  FutureWarning)\n",
      "/anaconda2/lib/python3.7/site-packages/sklearn/linear_model/logistic.py:433: FutureWarning: Default solver will be changed to 'lbfgs' in 0.22. Specify a solver to silence this warning.\n",
      "  FutureWarning)\n",
      "/anaconda2/lib/python3.7/site-packages/sklearn/linear_model/logistic.py:433: FutureWarning: Default solver will be changed to 'lbfgs' in 0.22. Specify a solver to silence this warning.\n",
      "  FutureWarning)\n",
      "/anaconda2/lib/python3.7/site-packages/sklearn/linear_model/logistic.py:433: FutureWarning: Default solver will be changed to 'lbfgs' in 0.22. Specify a solver to silence this warning.\n",
      "  FutureWarning)\n",
      "/anaconda2/lib/python3.7/site-packages/sklearn/linear_model/logistic.py:433: FutureWarning: Default solver will be changed to 'lbfgs' in 0.22. Specify a solver to silence this warning.\n",
      "  FutureWarning)\n",
      "/anaconda2/lib/python3.7/site-packages/sklearn/linear_model/logistic.py:433: FutureWarning: Default solver will be changed to 'lbfgs' in 0.22. Specify a solver to silence this warning.\n",
      "  FutureWarning)\n",
      "/anaconda2/lib/python3.7/site-packages/sklearn/linear_model/logistic.py:433: FutureWarning: Default solver will be changed to 'lbfgs' in 0.22. Specify a solver to silence this warning.\n",
      "  FutureWarning)\n",
      "/anaconda2/lib/python3.7/site-packages/sklearn/linear_model/logistic.py:433: FutureWarning: Default solver will be changed to 'lbfgs' in 0.22. Specify a solver to silence this warning.\n",
      "  FutureWarning)\n",
      "/anaconda2/lib/python3.7/site-packages/sklearn/linear_model/logistic.py:433: FutureWarning: Default solver will be changed to 'lbfgs' in 0.22. Specify a solver to silence this warning.\n",
      "  FutureWarning)\n",
      "/anaconda2/lib/python3.7/site-packages/sklearn/linear_model/logistic.py:433: FutureWarning: Default solver will be changed to 'lbfgs' in 0.22. Specify a solver to silence this warning.\n",
      "  FutureWarning)\n",
      "/anaconda2/lib/python3.7/site-packages/sklearn/linear_model/logistic.py:433: FutureWarning: Default solver will be changed to 'lbfgs' in 0.22. Specify a solver to silence this warning.\n",
      "  FutureWarning)\n",
      "/anaconda2/lib/python3.7/site-packages/sklearn/linear_model/logistic.py:433: FutureWarning: Default solver will be changed to 'lbfgs' in 0.22. Specify a solver to silence this warning.\n",
      "  FutureWarning)\n",
      "/anaconda2/lib/python3.7/site-packages/sklearn/linear_model/logistic.py:433: FutureWarning: Default solver will be changed to 'lbfgs' in 0.22. Specify a solver to silence this warning.\n",
      "  FutureWarning)\n",
      "/anaconda2/lib/python3.7/site-packages/sklearn/linear_model/logistic.py:433: FutureWarning: Default solver will be changed to 'lbfgs' in 0.22. Specify a solver to silence this warning.\n",
      "  FutureWarning)\n",
      "/anaconda2/lib/python3.7/site-packages/sklearn/linear_model/logistic.py:433: FutureWarning: Default solver will be changed to 'lbfgs' in 0.22. Specify a solver to silence this warning.\n",
      "  FutureWarning)\n",
      "/anaconda2/lib/python3.7/site-packages/sklearn/linear_model/logistic.py:433: FutureWarning: Default solver will be changed to 'lbfgs' in 0.22. Specify a solver to silence this warning.\n",
      "  FutureWarning)\n",
      "/anaconda2/lib/python3.7/site-packages/sklearn/linear_model/logistic.py:433: FutureWarning: Default solver will be changed to 'lbfgs' in 0.22. Specify a solver to silence this warning.\n",
      "  FutureWarning)\n",
      "/anaconda2/lib/python3.7/site-packages/sklearn/linear_model/logistic.py:433: FutureWarning: Default solver will be changed to 'lbfgs' in 0.22. Specify a solver to silence this warning.\n",
      "  FutureWarning)\n",
      "/anaconda2/lib/python3.7/site-packages/sklearn/linear_model/logistic.py:433: FutureWarning: Default solver will be changed to 'lbfgs' in 0.22. Specify a solver to silence this warning.\n",
      "  FutureWarning)\n",
      "/anaconda2/lib/python3.7/site-packages/sklearn/linear_model/logistic.py:433: FutureWarning: Default solver will be changed to 'lbfgs' in 0.22. Specify a solver to silence this warning.\n",
      "  FutureWarning)\n"
     ]
    }
   ],
   "source": [
    "## testing with Logsictregression firsy\n",
    "\n",
    "lm = LogisticRegression()\n",
    "parameters = {\"C\": [0.00001,0.001, 0.01, 0.1, 1, 10, 100, 1000, 10000]}\n",
    "features = [\"Height\", \"Weight\"]\n",
    "label = \"Gender\"\n",
    "\n",
    "\n",
    "\n",
    "model_cv,clf_best, xtrain, ytrain,xtest, ytest =classify(data = data,clf=lm,features=features, label = label, label_one=\"Male\", n_folds=6, parameters=parameters, test_size=0.4, score_func=\"accuracy\" )  \n",
    "# ignore all caught warnings\n",
    "\n",
    "\t# execute code that will generate warnings\n"
   ]
  },
  {
   "cell_type": "code",
   "execution_count": 9,
   "metadata": {},
   "outputs": [
    {
     "data": {
      "text/plain": [
       "LogisticRegression(C=1, class_weight=None, dual=False, fit_intercept=True,\n",
       "          intercept_scaling=1, max_iter=100, multi_class='warn',\n",
       "          n_jobs=None, penalty='l2', random_state=None, solver='warn',\n",
       "          tol=0.0001, verbose=0, warm_start=False)"
      ]
     },
     "execution_count": 9,
     "metadata": {},
     "output_type": "execute_result"
    }
   ],
   "source": [
    "clf_best"
   ]
  },
  {
   "cell_type": "code",
   "execution_count": 10,
   "metadata": {},
   "outputs": [
    {
     "data": {
      "text/html": [
       "<div>\n",
       "<style scoped>\n",
       "    .dataframe tbody tr th:only-of-type {\n",
       "        vertical-align: middle;\n",
       "    }\n",
       "\n",
       "    .dataframe tbody tr th {\n",
       "        vertical-align: top;\n",
       "    }\n",
       "\n",
       "    .dataframe thead th {\n",
       "        text-align: right;\n",
       "    }\n",
       "</style>\n",
       "<table border=\"1\" class=\"dataframe\">\n",
       "  <thead>\n",
       "    <tr style=\"text-align: right;\">\n",
       "      <th></th>\n",
       "      <th>mean_fit_time</th>\n",
       "      <th>std_fit_time</th>\n",
       "      <th>mean_score_time</th>\n",
       "      <th>std_score_time</th>\n",
       "      <th>param_C</th>\n",
       "      <th>params</th>\n",
       "      <th>split0_test_score</th>\n",
       "      <th>split1_test_score</th>\n",
       "      <th>split2_test_score</th>\n",
       "      <th>split3_test_score</th>\n",
       "      <th>split4_test_score</th>\n",
       "      <th>split5_test_score</th>\n",
       "      <th>mean_test_score</th>\n",
       "      <th>std_test_score</th>\n",
       "      <th>rank_test_score</th>\n",
       "      <th>split0_train_score</th>\n",
       "      <th>split1_train_score</th>\n",
       "      <th>split2_train_score</th>\n",
       "      <th>split3_train_score</th>\n",
       "      <th>split4_train_score</th>\n",
       "      <th>split5_train_score</th>\n",
       "      <th>mean_train_score</th>\n",
       "      <th>std_train_score</th>\n",
       "    </tr>\n",
       "  </thead>\n",
       "  <tbody>\n",
       "    <tr>\n",
       "      <th>0</th>\n",
       "      <td>0.001831</td>\n",
       "      <td>0.001520</td>\n",
       "      <td>0.000475</td>\n",
       "      <td>0.000203</td>\n",
       "      <td>1e-05</td>\n",
       "      <td>{'C': 1e-05}</td>\n",
       "      <td>0.529412</td>\n",
       "      <td>0.509804</td>\n",
       "      <td>0.52</td>\n",
       "      <td>0.52</td>\n",
       "      <td>0.510204</td>\n",
       "      <td>0.510204</td>\n",
       "      <td>0.516667</td>\n",
       "      <td>0.007278</td>\n",
       "      <td>9</td>\n",
       "      <td>0.514056</td>\n",
       "      <td>0.518072</td>\n",
       "      <td>0.516</td>\n",
       "      <td>0.516</td>\n",
       "      <td>0.517928</td>\n",
       "      <td>0.517928</td>\n",
       "      <td>0.516664</td>\n",
       "      <td>0.001464</td>\n",
       "    </tr>\n",
       "    <tr>\n",
       "      <th>1</th>\n",
       "      <td>0.001630</td>\n",
       "      <td>0.000684</td>\n",
       "      <td>0.000608</td>\n",
       "      <td>0.000298</td>\n",
       "      <td>0.001</td>\n",
       "      <td>{'C': 0.001}</td>\n",
       "      <td>0.921569</td>\n",
       "      <td>0.921569</td>\n",
       "      <td>0.98</td>\n",
       "      <td>0.92</td>\n",
       "      <td>0.938776</td>\n",
       "      <td>0.918367</td>\n",
       "      <td>0.933333</td>\n",
       "      <td>0.021933</td>\n",
       "      <td>4</td>\n",
       "      <td>0.939759</td>\n",
       "      <td>0.935743</td>\n",
       "      <td>0.924</td>\n",
       "      <td>0.936</td>\n",
       "      <td>0.932271</td>\n",
       "      <td>0.940239</td>\n",
       "      <td>0.934669</td>\n",
       "      <td>0.005469</td>\n",
       "    </tr>\n",
       "    <tr>\n",
       "      <th>2</th>\n",
       "      <td>0.001053</td>\n",
       "      <td>0.000392</td>\n",
       "      <td>0.000553</td>\n",
       "      <td>0.000433</td>\n",
       "      <td>0.01</td>\n",
       "      <td>{'C': 0.01}</td>\n",
       "      <td>0.901961</td>\n",
       "      <td>0.921569</td>\n",
       "      <td>0.98</td>\n",
       "      <td>0.94</td>\n",
       "      <td>0.959184</td>\n",
       "      <td>0.918367</td>\n",
       "      <td>0.936667</td>\n",
       "      <td>0.026379</td>\n",
       "      <td>2</td>\n",
       "      <td>0.939759</td>\n",
       "      <td>0.943775</td>\n",
       "      <td>0.928</td>\n",
       "      <td>0.940</td>\n",
       "      <td>0.932271</td>\n",
       "      <td>0.940239</td>\n",
       "      <td>0.937341</td>\n",
       "      <td>0.005411</td>\n",
       "    </tr>\n",
       "    <tr>\n",
       "      <th>3</th>\n",
       "      <td>0.000726</td>\n",
       "      <td>0.000196</td>\n",
       "      <td>0.000278</td>\n",
       "      <td>0.000101</td>\n",
       "      <td>0.1</td>\n",
       "      <td>{'C': 0.1}</td>\n",
       "      <td>0.901961</td>\n",
       "      <td>0.921569</td>\n",
       "      <td>0.98</td>\n",
       "      <td>0.94</td>\n",
       "      <td>0.959184</td>\n",
       "      <td>0.918367</td>\n",
       "      <td>0.936667</td>\n",
       "      <td>0.026379</td>\n",
       "      <td>2</td>\n",
       "      <td>0.943775</td>\n",
       "      <td>0.943775</td>\n",
       "      <td>0.932</td>\n",
       "      <td>0.936</td>\n",
       "      <td>0.936255</td>\n",
       "      <td>0.940239</td>\n",
       "      <td>0.938674</td>\n",
       "      <td>0.004321</td>\n",
       "    </tr>\n",
       "    <tr>\n",
       "      <th>4</th>\n",
       "      <td>0.001553</td>\n",
       "      <td>0.001069</td>\n",
       "      <td>0.000432</td>\n",
       "      <td>0.000213</td>\n",
       "      <td>1</td>\n",
       "      <td>{'C': 1}</td>\n",
       "      <td>0.901961</td>\n",
       "      <td>0.921569</td>\n",
       "      <td>0.98</td>\n",
       "      <td>0.96</td>\n",
       "      <td>0.959184</td>\n",
       "      <td>0.918367</td>\n",
       "      <td>0.940000</td>\n",
       "      <td>0.027814</td>\n",
       "      <td>1</td>\n",
       "      <td>0.943775</td>\n",
       "      <td>0.943775</td>\n",
       "      <td>0.932</td>\n",
       "      <td>0.936</td>\n",
       "      <td>0.936255</td>\n",
       "      <td>0.944223</td>\n",
       "      <td>0.939338</td>\n",
       "      <td>0.004791</td>\n",
       "    </tr>\n",
       "    <tr>\n",
       "      <th>5</th>\n",
       "      <td>0.000684</td>\n",
       "      <td>0.000068</td>\n",
       "      <td>0.000245</td>\n",
       "      <td>0.000030</td>\n",
       "      <td>10</td>\n",
       "      <td>{'C': 10}</td>\n",
       "      <td>0.901961</td>\n",
       "      <td>0.921569</td>\n",
       "      <td>0.98</td>\n",
       "      <td>0.92</td>\n",
       "      <td>0.959184</td>\n",
       "      <td>0.918367</td>\n",
       "      <td>0.933333</td>\n",
       "      <td>0.027003</td>\n",
       "      <td>4</td>\n",
       "      <td>0.939759</td>\n",
       "      <td>0.943775</td>\n",
       "      <td>0.932</td>\n",
       "      <td>0.940</td>\n",
       "      <td>0.936255</td>\n",
       "      <td>0.944223</td>\n",
       "      <td>0.939335</td>\n",
       "      <td>0.004233</td>\n",
       "    </tr>\n",
       "    <tr>\n",
       "      <th>6</th>\n",
       "      <td>0.000699</td>\n",
       "      <td>0.000109</td>\n",
       "      <td>0.000239</td>\n",
       "      <td>0.000020</td>\n",
       "      <td>100</td>\n",
       "      <td>{'C': 100}</td>\n",
       "      <td>0.901961</td>\n",
       "      <td>0.921569</td>\n",
       "      <td>0.98</td>\n",
       "      <td>0.92</td>\n",
       "      <td>0.959184</td>\n",
       "      <td>0.918367</td>\n",
       "      <td>0.933333</td>\n",
       "      <td>0.027003</td>\n",
       "      <td>4</td>\n",
       "      <td>0.939759</td>\n",
       "      <td>0.939759</td>\n",
       "      <td>0.928</td>\n",
       "      <td>0.940</td>\n",
       "      <td>0.936255</td>\n",
       "      <td>0.944223</td>\n",
       "      <td>0.937999</td>\n",
       "      <td>0.005033</td>\n",
       "    </tr>\n",
       "    <tr>\n",
       "      <th>7</th>\n",
       "      <td>0.000717</td>\n",
       "      <td>0.000035</td>\n",
       "      <td>0.000227</td>\n",
       "      <td>0.000006</td>\n",
       "      <td>1000</td>\n",
       "      <td>{'C': 1000}</td>\n",
       "      <td>0.901961</td>\n",
       "      <td>0.921569</td>\n",
       "      <td>0.98</td>\n",
       "      <td>0.90</td>\n",
       "      <td>0.959184</td>\n",
       "      <td>0.918367</td>\n",
       "      <td>0.930000</td>\n",
       "      <td>0.029557</td>\n",
       "      <td>8</td>\n",
       "      <td>0.939759</td>\n",
       "      <td>0.939759</td>\n",
       "      <td>0.928</td>\n",
       "      <td>0.944</td>\n",
       "      <td>0.936255</td>\n",
       "      <td>0.944223</td>\n",
       "      <td>0.938666</td>\n",
       "      <td>0.005497</td>\n",
       "    </tr>\n",
       "    <tr>\n",
       "      <th>8</th>\n",
       "      <td>0.000709</td>\n",
       "      <td>0.000057</td>\n",
       "      <td>0.000232</td>\n",
       "      <td>0.000007</td>\n",
       "      <td>10000</td>\n",
       "      <td>{'C': 10000}</td>\n",
       "      <td>0.901961</td>\n",
       "      <td>0.941176</td>\n",
       "      <td>0.98</td>\n",
       "      <td>0.90</td>\n",
       "      <td>0.959184</td>\n",
       "      <td>0.918367</td>\n",
       "      <td>0.933333</td>\n",
       "      <td>0.029524</td>\n",
       "      <td>4</td>\n",
       "      <td>0.939759</td>\n",
       "      <td>0.939759</td>\n",
       "      <td>0.928</td>\n",
       "      <td>0.944</td>\n",
       "      <td>0.936255</td>\n",
       "      <td>0.944223</td>\n",
       "      <td>0.938666</td>\n",
       "      <td>0.005497</td>\n",
       "    </tr>\n",
       "  </tbody>\n",
       "</table>\n",
       "</div>"
      ],
      "text/plain": [
       "   mean_fit_time  std_fit_time  mean_score_time  std_score_time param_C  \\\n",
       "0       0.001831      0.001520         0.000475        0.000203   1e-05   \n",
       "1       0.001630      0.000684         0.000608        0.000298   0.001   \n",
       "2       0.001053      0.000392         0.000553        0.000433    0.01   \n",
       "3       0.000726      0.000196         0.000278        0.000101     0.1   \n",
       "4       0.001553      0.001069         0.000432        0.000213       1   \n",
       "5       0.000684      0.000068         0.000245        0.000030      10   \n",
       "6       0.000699      0.000109         0.000239        0.000020     100   \n",
       "7       0.000717      0.000035         0.000227        0.000006    1000   \n",
       "8       0.000709      0.000057         0.000232        0.000007   10000   \n",
       "\n",
       "         params  split0_test_score  split1_test_score  split2_test_score  \\\n",
       "0  {'C': 1e-05}           0.529412           0.509804               0.52   \n",
       "1  {'C': 0.001}           0.921569           0.921569               0.98   \n",
       "2   {'C': 0.01}           0.901961           0.921569               0.98   \n",
       "3    {'C': 0.1}           0.901961           0.921569               0.98   \n",
       "4      {'C': 1}           0.901961           0.921569               0.98   \n",
       "5     {'C': 10}           0.901961           0.921569               0.98   \n",
       "6    {'C': 100}           0.901961           0.921569               0.98   \n",
       "7   {'C': 1000}           0.901961           0.921569               0.98   \n",
       "8  {'C': 10000}           0.901961           0.941176               0.98   \n",
       "\n",
       "   split3_test_score  split4_test_score  split5_test_score  mean_test_score  \\\n",
       "0               0.52           0.510204           0.510204         0.516667   \n",
       "1               0.92           0.938776           0.918367         0.933333   \n",
       "2               0.94           0.959184           0.918367         0.936667   \n",
       "3               0.94           0.959184           0.918367         0.936667   \n",
       "4               0.96           0.959184           0.918367         0.940000   \n",
       "5               0.92           0.959184           0.918367         0.933333   \n",
       "6               0.92           0.959184           0.918367         0.933333   \n",
       "7               0.90           0.959184           0.918367         0.930000   \n",
       "8               0.90           0.959184           0.918367         0.933333   \n",
       "\n",
       "   std_test_score  rank_test_score  split0_train_score  split1_train_score  \\\n",
       "0        0.007278                9            0.514056            0.518072   \n",
       "1        0.021933                4            0.939759            0.935743   \n",
       "2        0.026379                2            0.939759            0.943775   \n",
       "3        0.026379                2            0.943775            0.943775   \n",
       "4        0.027814                1            0.943775            0.943775   \n",
       "5        0.027003                4            0.939759            0.943775   \n",
       "6        0.027003                4            0.939759            0.939759   \n",
       "7        0.029557                8            0.939759            0.939759   \n",
       "8        0.029524                4            0.939759            0.939759   \n",
       "\n",
       "   split2_train_score  split3_train_score  split4_train_score  \\\n",
       "0               0.516               0.516            0.517928   \n",
       "1               0.924               0.936            0.932271   \n",
       "2               0.928               0.940            0.932271   \n",
       "3               0.932               0.936            0.936255   \n",
       "4               0.932               0.936            0.936255   \n",
       "5               0.932               0.940            0.936255   \n",
       "6               0.928               0.940            0.936255   \n",
       "7               0.928               0.944            0.936255   \n",
       "8               0.928               0.944            0.936255   \n",
       "\n",
       "   split5_train_score  mean_train_score  std_train_score  \n",
       "0            0.517928          0.516664         0.001464  \n",
       "1            0.940239          0.934669         0.005469  \n",
       "2            0.940239          0.937341         0.005411  \n",
       "3            0.940239          0.938674         0.004321  \n",
       "4            0.944223          0.939338         0.004791  \n",
       "5            0.944223          0.939335         0.004233  \n",
       "6            0.944223          0.937999         0.005033  \n",
       "7            0.944223          0.938666         0.005497  \n",
       "8            0.944223          0.938666         0.005497  "
      ]
     },
     "execution_count": 10,
     "metadata": {},
     "output_type": "execute_result"
    }
   ],
   "source": [
    "pd.DataFrame(model_cv.cv_results_)"
   ]
  },
  {
   "cell_type": "markdown",
   "metadata": {},
   "source": [
    "Now comparing model for **SVM** for linear kernel"
   ]
  },
  {
   "cell_type": "code",
   "execution_count": 11,
   "metadata": {},
   "outputs": [
    {
     "name": "stdout",
     "output_type": "stream",
     "text": [
      "Best estimator\n",
      "SVC(C=0.1, cache_size=200, class_weight=None, coef0=0.0,\n",
      "  decision_function_shape='ovr', degree=3, gamma='auto_deprecated',\n",
      "  kernel='linear', max_iter=-1, probability=False, random_state=None,\n",
      "  shrinking=True, tol=0.001, verbose=False)\n",
      "BEST parameters\n",
      "{'C': 0.1}\n",
      "BEST score\n",
      "0.9366666666666666\n",
      "############# based on standard predict ################\n",
      "Accuracy on training data: 0.94\n",
      "Accuracy on test data:     0.94\n",
      "[[89  8]\n",
      " [ 5 98]]\n",
      "########################################################\n"
     ]
    },
    {
     "name": "stderr",
     "output_type": "stream",
     "text": [
      "/anaconda2/lib/python3.7/site-packages/sklearn/model_selection/_search.py:841: DeprecationWarning: The default of the `iid` parameter will change from True to False in version 0.22 and will be removed in 0.24. This will change numeric results when test-set sizes are unequal.\n",
      "  DeprecationWarning)\n"
     ]
    }
   ],
   "source": [
    "## testing with Logsictregression firsy\n",
    "\n",
    "svm = SVC(kernel=\"linear\")\n",
    "parameters = {\"C\": [0.00001,0.001, 0.01, 0.1, 1, 10, 100, 1000, 10000,100000]}\n",
    "features = [\"Height\", \"Weight\"]\n",
    "label = \"Gender\"\n",
    "\n",
    "\n",
    "model_cv_svm,clf_best_svm, xtrain, ytrain,xtest, ytest =classify(data = data,clf=svm,features=features, label = label, label_one=\"Male\", n_folds=6, parameters=parameters, test_size=0.4, score_func=\"accuracy\" )  \n"
   ]
  },
  {
   "cell_type": "code",
   "execution_count": 18,
   "metadata": {},
   "outputs": [
    {
     "name": "stdout",
     "output_type": "stream",
     "text": [
      "Best estimator\n",
      "SVC(C=10, cache_size=200, class_weight=None, coef0=0.0,\n",
      "  decision_function_shape='ovr', degree=3, gamma=0.001, kernel='rbf',\n",
      "  max_iter=-1, probability=False, random_state=None, shrinking=True,\n",
      "  tol=0.001, verbose=False)\n",
      "BEST parameters\n",
      "{'C': 10, 'gamma': 0.001}\n",
      "BEST score\n",
      "0.93\n",
      "############# based on standard predict ################\n",
      "Accuracy on training data: 0.93\n",
      "Accuracy on test data:     0.93\n",
      "[[89  8]\n",
      " [ 6 97]]\n",
      "########################################################\n"
     ]
    },
    {
     "name": "stderr",
     "output_type": "stream",
     "text": [
      "/anaconda2/lib/python3.7/site-packages/sklearn/model_selection/_search.py:841: DeprecationWarning: The default of the `iid` parameter will change from True to False in version 0.22 and will be removed in 0.24. This will change numeric results when test-set sizes are unequal.\n",
      "  DeprecationWarning)\n"
     ]
    }
   ],
   "source": [
    "svm = SVC()\n",
    "parameters = {\"C\": [0.00001,0.001, 0.01, 0.1, 1, 10, 100, 1000, 10000,100000], 'gamma' : [0.001, 0.01, 0.1, 1]}\n",
    "features = [\"Height\", \"Weight\"]\n",
    "label = \"Gender\"\n",
    "\n",
    "\n",
    "model_cv_svm,clf_best_svm, xtrain, ytrain,xtest, ytest =classify(data = data,clf=svm,features=features, label = label, label_one=\"Male\", n_folds=6, parameters=parameters, test_size=0.4, score_func=\"accuracy\" )  \n"
   ]
  },
  {
   "cell_type": "markdown",
   "metadata": {},
   "source": [
    "### Decision trees"
   ]
  },
  {
   "cell_type": "code",
   "execution_count": 14,
   "metadata": {},
   "outputs": [
    {
     "name": "stdout",
     "output_type": "stream",
     "text": [
      "Best estimator\n",
      "DecisionTreeClassifier(class_weight=None, criterion='gini', max_depth=5,\n",
      "            max_features=None, max_leaf_nodes=None,\n",
      "            min_impurity_decrease=0.0, min_impurity_split=None,\n",
      "            min_samples_leaf=6, min_samples_split=2,\n",
      "            min_weight_fraction_leaf=0.0, presort=False, random_state=None,\n",
      "            splitter='best')\n",
      "BEST parameters\n",
      "{'max_depth': 5, 'min_samples_leaf': 6}\n",
      "BEST score\n",
      "0.9233333333333333\n",
      "############# based on standard predict ################\n",
      "Accuracy on training data: 0.95\n",
      "Accuracy on test data:     0.88\n",
      "[[83 14]\n",
      " [10 93]]\n",
      "########################################################\n"
     ]
    },
    {
     "name": "stderr",
     "output_type": "stream",
     "text": [
      "/anaconda2/lib/python3.7/site-packages/sklearn/model_selection/_search.py:841: DeprecationWarning: The default of the `iid` parameter will change from True to False in version 0.22 and will be removed in 0.24. This will change numeric results when test-set sizes are unequal.\n",
      "  DeprecationWarning)\n"
     ]
    }
   ],
   "source": [
    "parameters = {\"max_depth\": [1, 2, 3, 4, 5, 6, 7, 8,9], 'min_samples_leaf': [1, 2, 3, 4, 5, 6,8,9,10,12]}\n",
    "clfTree1 = tree.DecisionTreeClassifier()\n",
    "\n",
    "\n",
    "model_cv_dt1,clf_best_dt1, xtrain, ytrain,xtest, ytest =classify(data = data,clf=clfTree1,features=features, label = label, label_one=\"Male\", n_folds=6, parameters=parameters, test_size=0.4, score_func=\"accuracy\" )  \n"
   ]
  },
  {
   "cell_type": "markdown",
   "metadata": {},
   "source": [
    "Lets try with score function as f1 "
   ]
  },
  {
   "cell_type": "code",
   "execution_count": 15,
   "metadata": {},
   "outputs": [
    {
     "name": "stdout",
     "output_type": "stream",
     "text": [
      "Best estimator\n",
      "DecisionTreeClassifier(class_weight=None, criterion='gini', max_depth=4,\n",
      "            max_features=None, max_leaf_nodes=None,\n",
      "            min_impurity_decrease=0.0, min_impurity_split=None,\n",
      "            min_samples_leaf=6, min_samples_split=2,\n",
      "            min_weight_fraction_leaf=0.0, presort=False, random_state=None,\n",
      "            splitter='best')\n",
      "BEST parameters\n",
      "{'max_depth': 4, 'min_samples_leaf': 6}\n",
      "BEST score\n",
      "0.9263276980415344\n",
      "############# based on standard predict ################\n",
      "Accuracy on training data: 0.95\n",
      "Accuracy on test data:     0.88\n",
      "[[83 14]\n",
      " [10 93]]\n",
      "########################################################\n"
     ]
    },
    {
     "name": "stderr",
     "output_type": "stream",
     "text": [
      "/anaconda2/lib/python3.7/site-packages/sklearn/model_selection/_search.py:841: DeprecationWarning: The default of the `iid` parameter will change from True to False in version 0.22 and will be removed in 0.24. This will change numeric results when test-set sizes are unequal.\n",
      "  DeprecationWarning)\n"
     ]
    }
   ],
   "source": [
    "features = [\"Height\", \"Weight\"]\n",
    "label = \"Gender\"\n",
    "\n",
    "\n",
    "parameters = {\"max_depth\": [1, 2, 3, 4, 5, 6, 7, 8,9], 'min_samples_leaf': [1, 2, 3, 4, 5, 6,8,9,10,12]}\n",
    "clfTree1 = tree.DecisionTreeClassifier()\n",
    "\n",
    "\n",
    "model_cv_dt1,clf_best_dt1, xtrain, ytrain,xtest, ytest =classify(data = data,clf=clfTree1,features=features, label = label, label_one=\"Male\", n_folds=6, parameters=parameters, test_size=0.4, score_func=\"f1\" )  \n"
   ]
  },
  {
   "cell_type": "markdown",
   "metadata": {},
   "source": [
    "### Random Forests"
   ]
  },
  {
   "cell_type": "code",
   "execution_count": 21,
   "metadata": {},
   "outputs": [
    {
     "name": "stdout",
     "output_type": "stream",
     "text": [
      "Best estimator\n",
      "RandomForestClassifier(bootstrap=True, class_weight=None, criterion='gini',\n",
      "            max_depth=None, max_features='auto', max_leaf_nodes=None,\n",
      "            min_impurity_decrease=0.0, min_impurity_split=None,\n",
      "            min_samples_leaf=1, min_samples_split=2,\n",
      "            min_weight_fraction_leaf=0.0, n_estimators=10, n_jobs=None,\n",
      "            oob_score=False, random_state=None, verbose=0,\n",
      "            warm_start=False)\n",
      "BEST parameters\n",
      "{'n_estimators': 10}\n",
      "BEST score\n",
      "0.9266666666666666\n",
      "############# based on standard predict ################\n",
      "Accuracy on training data: 0.99\n",
      "Accuracy on test data:     0.91\n",
      "[[88  9]\n",
      " [ 9 94]]\n",
      "########################################################\n"
     ]
    },
    {
     "name": "stderr",
     "output_type": "stream",
     "text": [
      "/anaconda2/lib/python3.7/site-packages/sklearn/model_selection/_search.py:841: DeprecationWarning: The default of the `iid` parameter will change from True to False in version 0.22 and will be removed in 0.24. This will change numeric results when test-set sizes are unequal.\n",
      "  DeprecationWarning)\n"
     ]
    }
   ],
   "source": [
    "from sklearn.ensemble import RandomForestClassifier\n",
    "features = [\"Height\", \"Weight\"]\n",
    "label = \"Gender\"\n",
    "\n",
    "\n",
    "parameters = {\"n_estimators\": range(1, 20)}\n",
    "rfclassifier = RandomForestClassifier()\n",
    "\n",
    "\n",
    "model_cv_rf,clf_best_rf, xtrain, ytrain,xtest, ytest =classify(data = data,clf=rfclassifier,features=features, label = label, label_one=\"Male\", n_folds=6, parameters=parameters, test_size=0.4, score_func=\"accuracy\" )  \n"
   ]
  },
  {
   "cell_type": "markdown",
   "metadata": {},
   "source": [
    "#### Relative Importance\n",
    "We can get a measure of how important a variable is from a random forest, it's essentially a measure of how well each particular variable is able to predict well when it is selected, for more on this and other details check out [this webpage](https://www.stat.berkeley.edu/~breiman/RandomForests/cc_home.htm#varimp)."
   ]
  },
  {
   "cell_type": "code",
   "execution_count": 31,
   "metadata": {},
   "outputs": [
    {
     "data": {
      "text/html": [
       "<div>\n",
       "<style scoped>\n",
       "    .dataframe tbody tr th:only-of-type {\n",
       "        vertical-align: middle;\n",
       "    }\n",
       "\n",
       "    .dataframe tbody tr th {\n",
       "        vertical-align: top;\n",
       "    }\n",
       "\n",
       "    .dataframe thead th {\n",
       "        text-align: right;\n",
       "    }\n",
       "</style>\n",
       "<table border=\"1\" class=\"dataframe\">\n",
       "  <thead>\n",
       "    <tr style=\"text-align: right;\">\n",
       "      <th></th>\n",
       "      <th>0</th>\n",
       "      <th>1</th>\n",
       "    </tr>\n",
       "  </thead>\n",
       "  <tbody>\n",
       "    <tr>\n",
       "      <th>0</th>\n",
       "      <td>Height</td>\n",
       "      <td>0.337085</td>\n",
       "    </tr>\n",
       "    <tr>\n",
       "      <th>1</th>\n",
       "      <td>Weight</td>\n",
       "      <td>0.662915</td>\n",
       "    </tr>\n",
       "  </tbody>\n",
       "</table>\n",
       "</div>"
      ],
      "text/plain": [
       "        0         1\n",
       "0  Height  0.337085\n",
       "1  Weight  0.662915"
      ]
     },
     "execution_count": 31,
     "metadata": {},
     "output_type": "execute_result"
    }
   ],
   "source": [
    "importance_list = clf_best_rf.feature_importances_\n",
    "pd.concat([pd.Series(features), pd.Series(importance_list)], axis=1)"
   ]
  },
  {
   "cell_type": "markdown",
   "metadata": {},
   "source": [
    "### Adaboost classifier"
   ]
  },
  {
   "cell_type": "code",
   "execution_count": 32,
   "metadata": {},
   "outputs": [
    {
     "name": "stdout",
     "output_type": "stream",
     "text": [
      "Best estimator\n",
      "AdaBoostClassifier(algorithm='SAMME.R', base_estimator=None,\n",
      "          learning_rate=1.0, n_estimators=18, random_state=None)\n",
      "BEST parameters\n",
      "{'n_estimators': 18}\n",
      "BEST score\n",
      "0.9133333333333333\n",
      "############# based on standard predict ################\n",
      "Accuracy on training data: 0.96\n",
      "Accuracy on test data:     0.89\n",
      "[[85 12]\n",
      " [10 93]]\n",
      "########################################################\n"
     ]
    }
   ],
   "source": [
    "from sklearn.ensemble import AdaBoostClassifier\n",
    "\n",
    "clfAda = AdaBoostClassifier()\n",
    "\n",
    "parameters = {\"n_estimators\": range(10, 60)}\n",
    "\n",
    "\n",
    "model_cv_ada,clf_best_ada, xtrain, ytrain,xtest, ytest =classify(data = data,clf=clfAda,features=features, label = label, label_one=\"Male\", n_folds=6, parameters=parameters, test_size=0.4, score_func=\"accuracy\" )  \n"
   ]
  },
  {
   "cell_type": "markdown",
   "metadata": {},
   "source": [
    "### Gradient boost classifier"
   ]
  },
  {
   "cell_type": "code",
   "execution_count": 33,
   "metadata": {},
   "outputs": [
    {
     "name": "stdout",
     "output_type": "stream",
     "text": [
      "Best estimator\n",
      "GradientBoostingClassifier(criterion='friedman_mse', init=None,\n",
      "              learning_rate=0.1, loss='deviance', max_depth=3,\n",
      "              max_features=None, max_leaf_nodes=None,\n",
      "              min_impurity_decrease=0.0, min_impurity_split=None,\n",
      "              min_samples_leaf=1, min_samples_split=2,\n",
      "              min_weight_fraction_leaf=0.0, n_estimators=30,\n",
      "              n_iter_no_change=None, presort='auto', random_state=None,\n",
      "              subsample=1.0, tol=0.0001, validation_fraction=0.1,\n",
      "              verbose=0, warm_start=False)\n",
      "BEST parameters\n",
      "{'max_depth': 3, 'n_estimators': 30}\n",
      "BEST score\n",
      "0.9266666666666666\n",
      "############# based on standard predict ################\n",
      "Accuracy on training data: 0.98\n",
      "Accuracy on test data:     0.91\n",
      "[[87 10]\n",
      " [ 9 94]]\n",
      "########################################################\n"
     ]
    },
    {
     "name": "stderr",
     "output_type": "stream",
     "text": [
      "/anaconda2/lib/python3.7/site-packages/sklearn/model_selection/_search.py:841: DeprecationWarning: The default of the `iid` parameter will change from True to False in version 0.22 and will be removed in 0.24. This will change numeric results when test-set sizes are unequal.\n",
      "  DeprecationWarning)\n"
     ]
    }
   ],
   "source": [
    "from sklearn.ensemble import GradientBoostingClassifier\n",
    "\n",
    "clfGB = GradientBoostingClassifier()\n",
    "\n",
    "parameters = {\"n_estimators\": range(30, 60), \"max_depth\": [1, 2, 3, 4, 5]}\n",
    "\n",
    "\n",
    "model_cv_gboost,clf_best_gboost, xtrain, ytrain,xtest, ytest =classify(data = data,clf=clfGB,features=features, label = label, label_one=\"Male\", n_folds=6, parameters=parameters, test_size=0.4, score_func=\"accuracy\" )  \n"
   ]
  },
  {
   "cell_type": "code",
   "execution_count": null,
   "metadata": {},
   "outputs": [],
   "source": []
  }
 ],
 "metadata": {
  "kernelspec": {
   "display_name": "Python 3",
   "language": "python",
   "name": "python3"
  },
  "language_info": {
   "codemirror_mode": {
    "name": "ipython",
    "version": 3
   },
   "file_extension": ".py",
   "mimetype": "text/x-python",
   "name": "python",
   "nbconvert_exporter": "python",
   "pygments_lexer": "ipython3",
   "version": "3.7.3"
  }
 },
 "nbformat": 4,
 "nbformat_minor": 2
}
